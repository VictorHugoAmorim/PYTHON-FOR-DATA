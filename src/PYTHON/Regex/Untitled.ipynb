{
 "cells": [
  {
   "cell_type": "markdown",
   "id": "b7f8b22d",
   "metadata": {},
   "source": [
    "# Python Regex (Expressões Regulares)"
   ]
  },
  {
   "cell_type": "markdown",
   "id": "830a5818",
   "metadata": {},
   "source": [
    "#### Alunos: VICTOR HUGO OLIVEIRA DE AMORIM\n",
    "        SANDRO ROBÉRIO JARDIM PEREIRA JUNIOR\n",
    "        THOMAZ RUAS LOPES\n"
   ]
  },
  {
   "cell_type": "markdown",
   "id": "deafc71d",
   "metadata": {},
   "source": [
    "## Conceitos"
   ]
  },
  {
   "cell_type": "markdown",
   "id": "5e4aaca9",
   "metadata": {},
   "source": [
    "O que é Python RegEx? \n",
    "RegEx é uma abreviação do termo “Regular Expression” e é definida, basicamente, como uma notação utilizada para representar padrões em cadeias de caracteres, as strings.\n",
    "\n",
    "Apesar de usarmos Python para as demonstrações práticas, você pode usar qualquer outra linguagem! "
   ]
  },
  {
   "cell_type": "code",
   "execution_count": 3,
   "id": "a6895a6f",
   "metadata": {},
   "outputs": [],
   "source": [
    "# Importando o módulo\n",
    "\n",
    "import re"
   ]
  },
  {
   "cell_type": "code",
   "execution_count": 15,
   "id": "8ec6ede3",
   "metadata": {},
   "outputs": [],
   "source": [
    "# iniciando string para testes\n",
    "\n",
    "texto = 'Entendendo expressões regulares em python.'"
   ]
  },
  {
   "cell_type": "code",
   "execution_count": 14,
   "id": "fc37d082",
   "metadata": {},
   "outputs": [
    {
     "name": "stdout",
     "output_type": "stream",
     "text": [
      "<re.Match object; span=(35, 41), match='python'>\n"
     ]
    }
   ],
   "source": [
    "# Encontrando a posição dos caracteres dentro da String\n",
    "# Apenas para a primeira ocorrência\n",
    "\n",
    "print(re.search(r'python', texto))"
   ]
  },
  {
   "cell_type": "code",
   "execution_count": 19,
   "id": "3dac2291",
   "metadata": {},
   "outputs": [
    {
     "name": "stdout",
     "output_type": "stream",
     "text": [
      "['.']\n",
      "1\n"
     ]
    }
   ],
   "source": [
    "# Encontrando os caracteres dentro da String\n",
    "# Para todas as ocorrências\n",
    "\n",
    "print(re.findall(r'\\.', texto))\n",
    "print(len(re.findall(r'\\.', texto)))"
   ]
  },
  {
   "cell_type": "code",
   "execution_count": 21,
   "id": "e750dae9",
   "metadata": {},
   "outputs": [
    {
     "name": "stdout",
     "output_type": "stream",
     "text": [
      "Entendendo expressões regulares em python!\n"
     ]
    }
   ],
   "source": [
    "# Encontrando os caracteres dentro da String\n",
    "# Substituindo o valor \n",
    "\n",
    "print(re.sub(r'\\.', '!', texto))"
   ]
  },
  {
   "cell_type": "markdown",
   "id": "aaeac62f",
   "metadata": {},
   "source": [
    "## Entendendo Meta Caractéres"
   ]
  },
  {
   "cell_type": "code",
   "execution_count": null,
   "id": "653422ff",
   "metadata": {},
   "outputs": [],
   "source": []
  }
 ],
 "metadata": {
  "kernelspec": {
   "display_name": "Python 3 (ipykernel)",
   "language": "python",
   "name": "python3"
  },
  "language_info": {
   "codemirror_mode": {
    "name": "ipython",
    "version": 3
   },
   "file_extension": ".py",
   "mimetype": "text/x-python",
   "name": "python",
   "nbconvert_exporter": "python",
   "pygments_lexer": "ipython3",
   "version": "3.9.7"
  }
 },
 "nbformat": 4,
 "nbformat_minor": 5
}
