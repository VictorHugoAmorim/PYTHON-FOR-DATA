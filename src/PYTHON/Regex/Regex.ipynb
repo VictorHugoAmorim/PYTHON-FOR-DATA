{
 "cells": [
  {
   "cell_type": "markdown",
   "id": "b0a5777a",
   "metadata": {},
   "source": [
    "# Python Regex (Expressões Regulares)"
   ]
  },
  {
   "cell_type": "markdown",
   "id": "53dd4061",
   "metadata": {},
   "source": [
    "#### Alunos: VICTOR HUGO OLIVEIRA DE AMORIM\n",
    "        SANDRO ROBÉRIO JARDIM PEREIRA JUNIOR\n",
    "        THOMAZ RUAS LOPES\n"
   ]
  },
  {
   "cell_type": "markdown",
   "id": "dd66604a",
   "metadata": {},
   "source": [
    "## Conceitos"
   ]
  },
  {
   "cell_type": "markdown",
   "id": "580fdb8f",
   "metadata": {},
   "source": [
    "O que é Python RegEx? \n",
    "RegEx é uma abreviação do termo “Regular Expression” e é definida, basicamente, como uma notação utilizada para representar padrões em cadeias de caracteres, as strings.\n",
    "\n",
    "Apesar de usarmos Python para as demonstrações práticas, você pode usar qualquer outra linguagem! "
   ]
  },
  {
   "cell_type": "markdown",
   "id": "496a90f3",
   "metadata": {},
   "source": [
    "### Caracteres abrangentes vs caracteres precisos"
   ]
  },
  {
   "cell_type": "markdown",
   "id": "6e214790",
   "metadata": {},
   "source": [
    "cada caractere que você escreve pode ser classificado de duas formas:\n",
    "\n",
    "Como um caractere preciso: “a” se refere especificamente ao caractere “a”;\n",
    "\n",
    "Como um metacaractere: “.” é o que chamamos de coringa e se refere a qualquer caractere. \n",
    "\n",
    "Se você quer buscar especificamente pelo caractere “.” precisa usar o padrão “\\.”. (tente fazer a modificação e buscar especificamente por “.”)."
   ]
  },
  {
   "cell_type": "markdown",
   "id": "cab77a39",
   "metadata": {},
   "source": [
    "### Marcadores de início e fim de linha (^ e $)"
   ]
  },
  {
   "cell_type": "markdown",
   "id": "8e59700e",
   "metadata": {},
   "source": [
    "'^ + valor' Encontra qualquer string que esteja no início da linha e contenham os caracteres “valor”. "
   ]
  },
  {
   "cell_type": "markdown",
   "id": "fa2bf3da",
   "metadata": {},
   "source": [
    "'valor + $' Encontra qualquer string que esteja no fim da linha e contenham os caracteres “valor”. "
   ]
  },
  {
   "cell_type": "markdown",
   "id": "be984c17",
   "metadata": {},
   "source": [
    "### Marcadores de quantidade (* + ?  e {})"
   ]
  },
  {
   "cell_type": "markdown",
   "id": "d134e366",
   "metadata": {},
   "source": [
    "Marcadores de quantidade indicam repetições de um caractere ou de uma sequência de caracteres em um padrão. Exemplos:"
   ]
  },
  {
   "cell_type": "markdown",
   "id": "475fbee9",
   "metadata": {},
   "source": [
    "Pyt* – Encontra strings com a sequência de caracteres “Py” seguida de nenhuma ou mais ocorrências do caractere “t”.\n",
    "\n",
    "Pyt+ – Encontra strings com a sequência de caracteres “Py” seguida de uma ou mais ocorrências do caractere “t”.\n",
    "\n",
    "Pyt? –  Encontra strings com a sequência de caracteres “Py” seguida de nenhuma ou uma ocorrência do caractere “t”.\n",
    "\n",
    "Pyt{3} – Encontra strings com a sequência de caracteres “Py” seguida de exatamente 3 ocorrências do caractere “t”.\n",
    "\n",
    "Pyt{2, 4} – Encontra strings com a sequência de caracteres “Py” seguida de 2 a 4 ocorrências do caractere “t”.\n",
    "\n",
    "Pyt{3,} – Encontra strings com a sequência de caracteres “Py” seguida de 3 ou mais ocorrências do caractere “t”. "
   ]
  },
  {
   "cell_type": "markdown",
   "id": "8fef378a",
   "metadata": {},
   "source": [
    "## Marcador de definição de Conjuntos ([ ])"
   ]
  },
  {
   "cell_type": "markdown",
   "id": "a863b35a",
   "metadata": {},
   "source": [
    "Py[tho] – Encontra strings com a sequência de caracteres “Py” seguida de um caractere pertencente ao conjunto (t, h, o). \n",
    "\n",
    "Py[0-9] – Encontra strings com a sequência de caracteres “Py” seguida de um caractere pertencente ao conjunto de dígitos de 0 a 9. \n",
    "\n",
    "Py[a-z] – Encontra strings com a sequência de caracteres “Py” seguida de um caractere pertencente ao conjunto de caracteres alfabéticos de “a” a “z”. "
   ]
  },
  {
   "cell_type": "markdown",
   "id": "c21d78c9",
   "metadata": {},
   "source": [
    "## Marcadores de classes de caracteres (\\w, \\d, \\s e .)"
   ]
  },
  {
   "cell_type": "markdown",
   "id": "ab5a9188",
   "metadata": {},
   "source": [
    "\\w – Representa um caractere alfanumérico, incluindo ocorrências maiúsculas e minúsculas das letras e o caractere “_”.\n",
    "\n",
    "\\d – Representa um caractere numérico e equivale a definição do conjunto [0-9]\n",
    "\n",
    "\\s – Representa um espaço em branco, incluindo tabulações e quebras de linha\n",
    "\n",
    ". – Como já mencionado, este caractere é utilizado como coringa e representa qualquer caractere.\n",
    "\n",
    "A utilização de \\W, \\D e \\S serve como negação de suas correspondentes descritas acima. \\W vai encontrar, por exemplo, qualquer caractere que não seja relevante para \\w."
   ]
  },
  {
   "cell_type": "code",
   "execution_count": null,
   "id": "ae3cb31c",
   "metadata": {},
   "outputs": [],
   "source": []
  },
  {
   "cell_type": "markdown",
   "id": "94dd25d4",
   "metadata": {},
   "source": [
    "# Modo de uso e funções práticas"
   ]
  },
  {
   "cell_type": "code",
   "execution_count": 52,
   "id": "f47fa20c",
   "metadata": {},
   "outputs": [],
   "source": [
    "# Importando o módulo\n",
    "\n",
    "import re"
   ]
  },
  {
   "cell_type": "code",
   "execution_count": 54,
   "id": "da52f308",
   "metadata": {},
   "outputs": [],
   "source": [
    "# iniciando string para testes\n",
    "\n",
    "texto = 'Entendendo python expressões regulares em python.'"
   ]
  },
  {
   "cell_type": "code",
   "execution_count": 56,
   "id": "c5bd8df8",
   "metadata": {},
   "outputs": [
    {
     "name": "stdout",
     "output_type": "stream",
     "text": [
      "<re.Match object; span=(0, 10), match='Entendendo'>\n"
     ]
    }
   ],
   "source": [
    "# Encontrando a posição dos caracteres dentro da String\n",
    "# Apenas para a primeira ocorrência\n",
    "\n",
    "print(re.search(r'Entendendo', texto))"
   ]
  },
  {
   "cell_type": "code",
   "execution_count": 61,
   "id": "6cef5e24",
   "metadata": {},
   "outputs": [
    {
     "name": "stdout",
     "output_type": "stream",
     "text": [
      "['python', 'python']\n",
      "2\n"
     ]
    }
   ],
   "source": [
    "# Encontrando os caracteres dentro da String\n",
    "# Para todas as ocorrências\n",
    "\n",
    "print(re.findall(r'python', texto))\n",
    "print(len(re.findall(r'python', texto)))"
   ]
  },
  {
   "cell_type": "code",
   "execution_count": 62,
   "id": "cc06bf77",
   "metadata": {},
   "outputs": [
    {
     "name": "stdout",
     "output_type": "stream",
     "text": [
      "Entendendo python expressões regulares em python!\n"
     ]
    }
   ],
   "source": [
    "# Encontrando os caracteres dentro da String\n",
    "# Substituindo o valor \n",
    "\n",
    "print(re.sub(r'\\.', '!', texto))"
   ]
  },
  {
   "cell_type": "code",
   "execution_count": 63,
   "id": "82f2710c",
   "metadata": {},
   "outputs": [
    {
     "name": "stdout",
     "output_type": "stream",
     "text": [
      "[]\n",
      "['python', 'python']\n"
     ]
    }
   ],
   "source": [
    "# Ignorando case sensitive dos caracteres\n",
    "\n",
    "print(re.findall(r'PYTHON', texto))\n",
    "print(re.findall(r'PYTHON', texto, flags=re.IGNORECASE))"
   ]
  },
  {
   "cell_type": "code",
   "execution_count": 64,
   "id": "a6d03682",
   "metadata": {},
   "outputs": [
    {
     "name": "stdout",
     "output_type": "stream",
     "text": [
      "['857.416.114-23']\n",
      "[]\n"
     ]
    }
   ],
   "source": [
    "# Validando CPF\n",
    "\n",
    "cpf = '857.416.114-23'\n",
    "cpf2 = 'AVB.655.554444'\n",
    "\n",
    "print(re.findall(r'[0-9]{3}\\.?[0-9]{3}\\.?[0-9]{3}\\-?[0-9]{2}', cpf))\n",
    "\n",
    "print(re.findall(r'[0-9]{3}\\.?[0-9]{3}\\.?[0-9]{3}\\-?[0-9]{2}', cpf2))\n"
   ]
  },
  {
   "cell_type": "markdown",
   "id": "45e07856",
   "metadata": {},
   "source": [
    "A interrogação (?) faz com que a especificação de caractere precedente seja opcional. Portanto os pontos e o tracinho são opcionais. A classe de caracteres [0-9] representa qualquer caracter de 0 a 9 . Finalmente, o número entre colchetes ({3}) determina uma quantidade específica de vezes que a especificação de caractere precedente deve se repetir. Assim sendo, são requeridos no total 11 caracteres numéricos (3 + 3 + 3 + 2)."
   ]
  },
  {
   "cell_type": "code",
   "execution_count": 65,
   "id": "1b180a76",
   "metadata": {},
   "outputs": [
    {
     "name": "stdout",
     "output_type": "stream",
     "text": [
      "['00000-000']\n",
      "[]\n"
     ]
    }
   ],
   "source": [
    "# Validando CEP\n",
    "\n",
    "cep = '00000-000'\n",
    "cep2 = '00000-0000'\n",
    "\n",
    "print(re.findall(r'^\\d{5}-\\d{3}$', cep))\n",
    "print(re.findall(r'^\\d{5}-\\d{3}$', cep2))\n"
   ]
  },
  {
   "cell_type": "markdown",
   "id": "009e751f",
   "metadata": {},
   "source": [
    "As expressões '^' e '$' força a estrutura ser mantida com número do início ao fim, utilizando '\\d{5}' teremos a certeza que o cep terá seus 5 dígitos iniciais separando-os com os 3 ultimos números '\\d{3}'"
   ]
  },
  {
   "cell_type": "code",
   "execution_count": 66,
   "id": "4d19f32e",
   "metadata": {},
   "outputs": [
    {
     "name": "stdout",
     "output_type": "stream",
     "text": [
      "True\n",
      "False\n"
     ]
    }
   ],
   "source": [
    "#Função reconhecimento de CPF\n",
    "\n",
    "def cpf_valido(cpf):\n",
    "\n",
    "   pattern = r\"^(\\d{3}.){2}\\d{3}-\\d{2}$\"\n",
    "\n",
    "   return bool(re.match(pattern, cpf))\n",
    "\n",
    "print(cpf_valido('857.416.114-23'))\n",
    "print(cpf_valido('AVB.655.554444'))"
   ]
  },
  {
   "cell_type": "code",
   "execution_count": null,
   "id": "68c561bd",
   "metadata": {},
   "outputs": [],
   "source": []
  }
 ],
 "metadata": {
  "kernelspec": {
   "display_name": "Python 3 (ipykernel)",
   "language": "python",
   "name": "python3"
  },
  "language_info": {
   "codemirror_mode": {
    "name": "ipython",
    "version": 3
   },
   "file_extension": ".py",
   "mimetype": "text/x-python",
   "name": "python",
   "nbconvert_exporter": "python",
   "pygments_lexer": "ipython3",
   "version": "3.9.7"
  }
 },
 "nbformat": 4,
 "nbformat_minor": 5
}
