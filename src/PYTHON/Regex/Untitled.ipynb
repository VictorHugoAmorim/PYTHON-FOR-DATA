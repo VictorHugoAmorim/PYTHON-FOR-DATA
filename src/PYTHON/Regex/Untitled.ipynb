{
 "cells": [
  {
   "cell_type": "markdown",
   "id": "9dd9aeff",
   "metadata": {},
   "source": [
    "# Python Regex (Expressões Regulares)"
   ]
  },
  {
   "cell_type": "markdown",
   "id": "02fce46f",
   "metadata": {},
   "source": [
    "#### Alunos: VICTOR HUGO OLIVEIRA DE AMORIM\n",
    "        SANDRO ROBÉRIO JARDIM PEREIRA JUNIOR\n",
    "        THOMAZ RUAS LOPES\n"
   ]
  },
  {
   "cell_type": "markdown",
   "id": "620fb927",
   "metadata": {},
   "source": [
    "## Conceitos"
   ]
  },
  {
   "cell_type": "markdown",
   "id": "98ef0e91",
   "metadata": {},
   "source": [
    "O que é Python RegEx? \n",
    "RegEx é uma abreviação do termo “Regular Expression” e é definida, basicamente, como uma notação utilizada para representar padrões em cadeias de caracteres, as strings.\n",
    "\n",
    "Apesar de usarmos Python para as demonstrações práticas, você pode usar qualquer outra linguagem! "
   ]
  },
  {
   "cell_type": "markdown",
   "id": "158a39bb",
   "metadata": {},
   "source": [
    "### Caracteres abrangentes vs caracteres precisos"
   ]
  },
  {
   "cell_type": "markdown",
   "id": "65548669",
   "metadata": {},
   "source": [
    "cada caractere que você escreve pode ser classificado de duas formas:\n",
    "\n",
    "Como um caractere preciso: “a” se refere especificamente ao caractere “a”;\n",
    "\n",
    "Como um metacaractere: “.” é o que chamamos de coringa e se refere a qualquer caractere. \n",
    "\n",
    "Se você quer buscar especificamente pelo caractere “.” precisa usar o padrão “\\.”. (tente fazer a modificação e buscar especificamente por “.”)."
   ]
  },
  {
   "cell_type": "markdown",
   "id": "38086b16",
   "metadata": {},
   "source": [
    "### Marcadores de início e fim de linha (^ e $)"
   ]
  },
  {
   "cell_type": "markdown",
   "id": "d5c89ce8",
   "metadata": {},
   "source": [
    "'^ + valor' Encontra qualquer string que esteja no início do texto e contenham os caracteres “valor”. "
   ]
  },
  {
   "cell_type": "markdown",
   "id": "e3b35606",
   "metadata": {},
   "source": [
    "'valor + $' Encontra qualquer string que esteja no fim do texto e contenham os caracteres “Python”. "
   ]
  },
  {
   "cell_type": "markdown",
   "id": "e0e4a814",
   "metadata": {},
   "source": [
    "### Marcadores de quantidade (* + ?  e {})"
   ]
  },
  {
   "cell_type": "code",
   "execution_count": null,
   "id": "6c945635",
   "metadata": {},
   "outputs": [],
   "source": []
  },
  {
   "cell_type": "code",
   "execution_count": 3,
   "id": "856fc0b8",
   "metadata": {},
   "outputs": [],
   "source": [
    "# Importando o módulo\n",
    "\n",
    "import re"
   ]
  },
  {
   "cell_type": "code",
   "execution_count": 15,
   "id": "da0b65ef",
   "metadata": {},
   "outputs": [],
   "source": [
    "# iniciando string para testes\n",
    "\n",
    "texto = 'Entendendo expressões regulares em python.'"
   ]
  },
  {
   "cell_type": "code",
   "execution_count": 14,
   "id": "c904db8d",
   "metadata": {},
   "outputs": [
    {
     "name": "stdout",
     "output_type": "stream",
     "text": [
      "<re.Match object; span=(35, 41), match='python'>\n"
     ]
    }
   ],
   "source": [
    "# Encontrando a posição dos caracteres dentro da String\n",
    "# Apenas para a primeira ocorrência\n",
    "\n",
    "print(re.search(r'python', texto))"
   ]
  },
  {
   "cell_type": "code",
   "execution_count": 19,
   "id": "a0db381f",
   "metadata": {},
   "outputs": [
    {
     "name": "stdout",
     "output_type": "stream",
     "text": [
      "['.']\n",
      "1\n"
     ]
    }
   ],
   "source": [
    "# Encontrando os caracteres dentro da String\n",
    "# Para todas as ocorrências\n",
    "\n",
    "print(re.findall(r'\\.', texto))\n",
    "print(len(re.findall(r'\\.', texto)))"
   ]
  },
  {
   "cell_type": "code",
   "execution_count": 21,
   "id": "de281cdc",
   "metadata": {},
   "outputs": [
    {
     "name": "stdout",
     "output_type": "stream",
     "text": [
      "Entendendo expressões regulares em python!\n"
     ]
    }
   ],
   "source": [
    "# Encontrando os caracteres dentro da String\n",
    "# Substituindo o valor \n",
    "\n",
    "print(re.sub(r'\\.', '!', texto))"
   ]
  },
  {
   "cell_type": "markdown",
   "id": "16fd9a03",
   "metadata": {},
   "source": [
    "## Entendendo Meta Caractéres"
   ]
  },
  {
   "cell_type": "code",
   "execution_count": null,
   "id": "173c2d33",
   "metadata": {},
   "outputs": [],
   "source": []
  }
 ],
 "metadata": {
  "kernelspec": {
   "display_name": "Python 3 (ipykernel)",
   "language": "python",
   "name": "python3"
  },
  "language_info": {
   "codemirror_mode": {
    "name": "ipython",
    "version": 3
   },
   "file_extension": ".py",
   "mimetype": "text/x-python",
   "name": "python",
   "nbconvert_exporter": "python",
   "pygments_lexer": "ipython3",
   "version": "3.9.7"
  }
 },
 "nbformat": 4,
 "nbformat_minor": 5
}
